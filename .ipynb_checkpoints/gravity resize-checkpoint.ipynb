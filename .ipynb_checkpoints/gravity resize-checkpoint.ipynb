{
 "cells": [
  {
   "cell_type": "code",
   "execution_count": 1,
   "metadata": {
    "scrolled": true
   },
   "outputs": [
    {
     "name": "stderr",
     "output_type": "stream",
     "text": [
      "<>:36: SyntaxWarning: \"is\" with a literal. Did you mean \"==\"?\n",
      "<>:36: SyntaxWarning: \"is\" with a literal. Did you mean \"==\"?\n",
      "<ipython-input-1-ce43a8dfb280>:36: SyntaxWarning: \"is\" with a literal. Did you mean \"==\"?\n",
      "  if len(img.shape) is 3 and not isinstance(padColor, (list, tuple, np.ndarray)): # color image but only one color provided\n"
     ]
    },
    {
     "data": {
      "text/plain": [
       "array([[[127, 127, 127],\n",
       "        [127, 127, 127],\n",
       "        [127, 127, 127],\n",
       "        ...,\n",
       "        [127, 127, 127],\n",
       "        [127, 127, 127],\n",
       "        [127, 127, 127]],\n",
       "\n",
       "       [[127, 127, 127],\n",
       "        [127, 127, 127],\n",
       "        [127, 127, 127],\n",
       "        ...,\n",
       "        [127, 127, 127],\n",
       "        [127, 127, 127],\n",
       "        [127, 127, 127]],\n",
       "\n",
       "       [[127, 127, 127],\n",
       "        [127, 127, 127],\n",
       "        [127, 127, 127],\n",
       "        ...,\n",
       "        [127, 127, 127],\n",
       "        [127, 127, 127],\n",
       "        [127, 127, 127]],\n",
       "\n",
       "       ...,\n",
       "\n",
       "       [[127, 127, 127],\n",
       "        [127, 127, 127],\n",
       "        [127, 127, 127],\n",
       "        ...,\n",
       "        [127, 127, 127],\n",
       "        [127, 127, 127],\n",
       "        [127, 127, 127]],\n",
       "\n",
       "       [[127, 127, 127],\n",
       "        [127, 127, 127],\n",
       "        [127, 127, 127],\n",
       "        ...,\n",
       "        [127, 127, 127],\n",
       "        [127, 127, 127],\n",
       "        [127, 127, 127]],\n",
       "\n",
       "       [[127, 127, 127],\n",
       "        [127, 127, 127],\n",
       "        [127, 127, 127],\n",
       "        ...,\n",
       "        [127, 127, 127],\n",
       "        [127, 127, 127],\n",
       "        [127, 127, 127]]], dtype=uint8)"
      ]
     },
     "execution_count": 1,
     "metadata": {},
     "output_type": "execute_result"
    }
   ],
   "source": [
    "import cv2\n",
    "import numpy as np\n",
    "\n",
    "def resizeAndPad(img, size, padColor=0):\n",
    "\n",
    "    h, w = img.shape[:2]\n",
    "    sh, sw = size\n",
    "\n",
    "    # interpolation method\n",
    "    if h > sh or w > sw: # shrinking image\n",
    "        interp = cv2.INTER_AREA\n",
    "    else: # stretching image\n",
    "        interp = cv2.INTER_CUBIC\n",
    "\n",
    "    # aspect ratio of image\n",
    "    aspect = w/h  # if on Python 2, you might need to cast as a float: float(w)/h\n",
    "\n",
    "    # compute scaling and pad sizing\n",
    "    if aspect > 1: # horizontal image\n",
    "        new_w = sw\n",
    "        new_h = np.round(new_w/aspect).astype(int)\n",
    "        pad_vert = (sh-new_h)/2\n",
    "        pad_top, pad_bot = np.floor(pad_vert).astype(int), np.ceil(pad_vert).astype(int)\n",
    "        pad_left, pad_right = 0, 0\n",
    "    elif aspect < 1: # vertical image\n",
    "        new_h = sh\n",
    "        new_w = np.round(new_h*aspect).astype(int)\n",
    "        pad_horz = (sw-new_w)/2\n",
    "        pad_left, pad_right = np.floor(pad_horz).astype(int), np.ceil(pad_horz).astype(int)\n",
    "        pad_top, pad_bot = 0, 0\n",
    "    else: # square image\n",
    "        new_h, new_w = sh, sw\n",
    "        pad_left, pad_right, pad_top, pad_bot = 0, 0, 0, 0\n",
    "\n",
    "    # set pad color\n",
    "    if len(img.shape) is 3 and not isinstance(padColor, (list, tuple, np.ndarray)): # color image but only one color provided\n",
    "        padColor = [padColor]*3\n",
    "\n",
    "    # scale and pad\n",
    "    scaled_img = cv2.resize(img, (new_w, new_h), interpolation=interp)\n",
    "    scaled_img = cv2.copyMakeBorder(scaled_img, pad_top, pad_bot, pad_left, pad_right, borderType=cv2.BORDER_CONSTANT, value=padColor)\n",
    "\n",
    "    return scaled_img\n",
    "\n",
    "v_img = cv2.imread('toupload/president.jpeg') # vertical image\n",
    "scaled_v_img = resizeAndPad(v_img, (200,200), 127)\n",
    "scaled_v_img"
   ]
  },
  {
   "cell_type": "code",
   "execution_count": 2,
   "metadata": {},
   "outputs": [
    {
     "data": {
      "text/plain": [
       "numpy.ndarray"
      ]
     },
     "execution_count": 2,
     "metadata": {},
     "output_type": "execute_result"
    }
   ],
   "source": [
    "type(scaled_v_img)"
   ]
  },
  {
   "cell_type": "code",
   "execution_count": null,
   "metadata": {},
   "outputs": [],
   "source": []
  }
 ],
 "metadata": {
  "kernelspec": {
   "display_name": "Python 3",
   "language": "python",
   "name": "python3"
  },
  "language_info": {
   "codemirror_mode": {
    "name": "ipython",
    "version": 3
   },
   "file_extension": ".py",
   "mimetype": "text/x-python",
   "name": "python",
   "nbconvert_exporter": "python",
   "pygments_lexer": "ipython3",
   "version": "3.8.3"
  }
 },
 "nbformat": 4,
 "nbformat_minor": 4
}
